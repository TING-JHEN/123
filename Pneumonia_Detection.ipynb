{
  "nbformat": 4,
  "nbformat_minor": 0,
  "metadata": {
    "colab": {
      "name": "Pneumonia Detection.ipynb",
      "provenance": [],
      "collapsed_sections": [],
      "authorship_tag": "ABX9TyOfzN1i6rb3WMXgxlvHqII5",
      "include_colab_link": true
    },
    "kernelspec": {
      "name": "python3",
      "display_name": "Python 3"
    },
    "accelerator": "TPU"
  },
  "cells": [
    {
      "cell_type": "markdown",
      "metadata": {
        "id": "view-in-github",
        "colab_type": "text"
      },
      "source": [
        "<a href=\"https://colab.research.google.com/github/TING-JHEN/123/blob/master/Pneumonia_Detection.ipynb\" target=\"_parent\"><img src=\"https://colab.research.google.com/assets/colab-badge.svg\" alt=\"Open In Colab\"/></a>"
      ]
    },
    {
      "cell_type": "code",
      "metadata": {
        "id": "XnhZJ14JpqKk",
        "colab_type": "code",
        "colab": {}
      },
      "source": [
        "from google.colab import drive"
      ],
      "execution_count": 2,
      "outputs": []
    },
    {
      "cell_type": "code",
      "metadata": {
        "id": "RPfs4-wCrOQ0",
        "colab_type": "code",
        "colab": {
          "base_uri": "https://localhost:8080/",
          "height": 34
        },
        "outputId": "6e25d66c-94d8-4592-ac97-6d0e3141d998"
      },
      "source": [
        "drive.mount(\"/content/drive\")"
      ],
      "execution_count": 3,
      "outputs": [
        {
          "output_type": "stream",
          "text": [
            "Drive already mounted at /content/drive; to attempt to forcibly remount, call drive.mount(\"/content/drive\", force_remount=True).\n"
          ],
          "name": "stdout"
        }
      ]
    },
    {
      "cell_type": "code",
      "metadata": {
        "id": "jemttG4xrQof",
        "colab_type": "code",
        "colab": {
          "base_uri": "https://localhost:8080/",
          "height": 34
        },
        "outputId": "962f19d0-96cd-4774-a81a-05adb5fbb96b"
      },
      "source": [
        "%ls /content/drive"
      ],
      "execution_count": 4,
      "outputs": [
        {
          "output_type": "stream",
          "text": [
            "\u001b[0m\u001b[01;34m'My Drive'\u001b[0m/\n"
          ],
          "name": "stdout"
        }
      ]
    },
    {
      "cell_type": "code",
      "metadata": {
        "id": "e1mJbCOsrZeY",
        "colab_type": "code",
        "colab": {
          "base_uri": "https://localhost:8080/",
          "height": 34
        },
        "outputId": "6b7344eb-1d1c-4c92-cb77-7ec22ba74ae0"
      },
      "source": [
        "%cd /content/drive/My\\ Drive"
      ],
      "execution_count": 5,
      "outputs": [
        {
          "output_type": "stream",
          "text": [
            "/content/drive/My Drive\n"
          ],
          "name": "stdout"
        }
      ]
    },
    {
      "cell_type": "code",
      "metadata": {
        "id": "AR0_v5MbrfII",
        "colab_type": "code",
        "colab": {
          "base_uri": "https://localhost:8080/",
          "height": 34
        },
        "outputId": "74cdc118-63f4-48a5-e6fe-172913fcd6f4"
      },
      "source": [
        "%cd my_ai_data"
      ],
      "execution_count": 6,
      "outputs": [
        {
          "output_type": "stream",
          "text": [
            "/content/drive/My Drive/my_ai_data\n"
          ],
          "name": "stdout"
        }
      ]
    },
    {
      "cell_type": "code",
      "metadata": {
        "id": "PwLwoNCYrtt6",
        "colab_type": "code",
        "colab": {
          "base_uri": "https://localhost:8080/",
          "height": 34
        },
        "outputId": "1beafced-22e6-4d2d-c537-33820bff81bb"
      },
      "source": [
        "%cd Pneumonia Detection"
      ],
      "execution_count": 7,
      "outputs": [
        {
          "output_type": "stream",
          "text": [
            "/content/drive/My Drive/my_ai_data/Pneumonia Detection\n"
          ],
          "name": "stdout"
        }
      ]
    },
    {
      "cell_type": "code",
      "metadata": {
        "id": "1LCkAsExfmzx",
        "colab_type": "code",
        "colab": {
          "base_uri": "https://localhost:8080/",
          "height": 51
        },
        "outputId": "17b238aa-9623-4aa5-bdd3-8083b4e53dc5"
      },
      "source": [
        "import numpy as np\n",
        "import pandas as pd\n",
        "import matplotlib.pyplot as plt\n",
        "import seaborn as sns\n",
        "import keras\n",
        "from keras.models import Sequential\n",
        "from keras.layers import Dense, Conv2D, MaxPooling2D, AveragePooling2D, Flatten, Activation\n",
        "from keras.optimizers import SGD, Adam, RMSprop\n",
        "from keras.preprocessing.image import ImageDataGenerator\n",
        "from sklearn.model_selection import train_test_split\n",
        "from sklearn.metrics import classification_report,confusion_matrix\n",
        "from keras.callbacks import ReduceLROnPlateau\n",
        "import cv2\n",
        "import os"
      ],
      "execution_count": 8,
      "outputs": [
        {
          "output_type": "stream",
          "text": [
            "/usr/local/lib/python3.6/dist-packages/statsmodels/tools/_testing.py:19: FutureWarning: pandas.util.testing is deprecated. Use the functions in the public API at pandas.testing instead.\n",
            "  import pandas.util.testing as tm\n"
          ],
          "name": "stderr"
        }
      ]
    },
    {
      "cell_type": "code",
      "metadata": {
        "id": "HzQinlA_sCTG",
        "colab_type": "code",
        "colab": {}
      },
      "source": [
        "x_train = np.load(\"x_train.npy\")\n",
        "x_test = np.load(\"x_test.npy\")\n",
        "x_val = np.load(\"x_val.npy\")\n",
        "y_train = np.load(\"y_train.npy\")\n",
        "y_test = np.load(\"y_test.npy\")\n",
        "y_val = np.load(\"y_val.npy\")"
      ],
      "execution_count": 9,
      "outputs": []
    },
    {
      "cell_type": "code",
      "metadata": {
        "id": "Nqw5GlVIss-q",
        "colab_type": "code",
        "colab": {}
      },
      "source": [
        "model = Sequential()\n",
        "\n",
        "model.add(Conv2D(32, (3,3), padding='same', input_shape=(128,128,3)))\n",
        "model.add(Activation('relu'))\n",
        "\n",
        "model.add(AveragePooling2D(pool_size=(2,2)))\n",
        "\n",
        "model.add(Conv2D(32, (3,3), padding='same'))\n",
        "model.add(Activation('relu'))\n",
        "\n",
        "model.add(AveragePooling2D(pool_size=(2,2)))\n",
        "\n",
        "model.add(Flatten())\n",
        "model.add(Dense(200))\n",
        "model.add(Activation('relu'))\n",
        "\n",
        "model.add(Dense(2))\n",
        "model.add(Activation('softmax'))\n",
        "\n",
        "model.compile(loss='sparse_categorical_crossentropy', optimizer=RMSprop(), metrics=['accuracy'])"
      ],
      "execution_count": 53,
      "outputs": []
    },
    {
      "cell_type": "code",
      "metadata": {
        "id": "vFJcasc9s00w",
        "colab_type": "code",
        "colab": {
          "base_uri": "https://localhost:8080/",
          "height": 527
        },
        "outputId": "5285cd63-f70e-44b7-fc81-ebd4d4e352e9"
      },
      "source": [
        "model.summary()"
      ],
      "execution_count": 54,
      "outputs": [
        {
          "output_type": "stream",
          "text": [
            "Model: \"sequential_10\"\n",
            "_________________________________________________________________\n",
            "Layer (type)                 Output Shape              Param #   \n",
            "=================================================================\n",
            "conv2d_20 (Conv2D)           (None, 128, 128, 32)      896       \n",
            "_________________________________________________________________\n",
            "activation_40 (Activation)   (None, 128, 128, 32)      0         \n",
            "_________________________________________________________________\n",
            "average_pooling2d_20 (Averag (None, 64, 64, 32)        0         \n",
            "_________________________________________________________________\n",
            "conv2d_21 (Conv2D)           (None, 64, 64, 32)        9248      \n",
            "_________________________________________________________________\n",
            "activation_41 (Activation)   (None, 64, 64, 32)        0         \n",
            "_________________________________________________________________\n",
            "average_pooling2d_21 (Averag (None, 32, 32, 32)        0         \n",
            "_________________________________________________________________\n",
            "flatten_10 (Flatten)         (None, 32768)             0         \n",
            "_________________________________________________________________\n",
            "dense_20 (Dense)             (None, 200)               6553800   \n",
            "_________________________________________________________________\n",
            "activation_42 (Activation)   (None, 200)               0         \n",
            "_________________________________________________________________\n",
            "dense_21 (Dense)             (None, 2)                 402       \n",
            "_________________________________________________________________\n",
            "activation_43 (Activation)   (None, 2)                 0         \n",
            "=================================================================\n",
            "Total params: 6,564,346\n",
            "Trainable params: 6,564,346\n",
            "Non-trainable params: 0\n",
            "_________________________________________________________________\n"
          ],
          "name": "stdout"
        }
      ]
    },
    {
      "cell_type": "code",
      "metadata": {
        "id": "lfY6DQBls2V3",
        "colab_type": "code",
        "colab": {
          "base_uri": "https://localhost:8080/",
          "height": 323
        },
        "outputId": "b0074a9d-8a36-4666-e736-97dbce6eb6f4"
      },
      "source": [
        "for i in range(10):\n",
        "  history = model.fit(x_train, y_train, batch_size=32, epochs=1, validation_data = (x_test, y_test))\n",
        "  predict = np.argmax(model.predict(x_test), axis=-1)\n",
        "  TP, FP, FN, TN = 0, 0, 0, 0 #真陽性TP,偽陽性FP,偽陰性FN,真陰性TN\n",
        "  for i in range(len(predict)):\n",
        "    if predict[i]==0:\n",
        "      if predict[i]==y_test[i]:\n",
        "        TP += 1\n",
        "      elif predict[i]!=y_test[i]:\n",
        "        FP += 1\n",
        "    elif predict[i]==1:\n",
        "      if predict[i]==y_test[i]:\n",
        "        TN += 1\n",
        "      elif predict[i]!=y_test[i]:\n",
        "        FN += 1\n",
        "  print(\"TP=\",TP,\"FP=\",FP,\"FN=\",FN,\"TN=\",TN)"
      ],
      "execution_count": null,
      "outputs": [
        {
          "output_type": "stream",
          "text": [
            "163/163 [==============================] - 96s 587ms/step - loss: 0.4594 - accuracy: 0.8508 - val_loss: 0.5908 - val_accuracy: 0.8013\n",
            "TP= 386 FP= 120 FN= 4 TN= 114\n",
            "163/163 [==============================] - 95s 583ms/step - loss: 0.1604 - accuracy: 0.9433 - val_loss: 0.5602 - val_accuracy: 0.7837\n",
            "TP= 387 FP= 132 FN= 3 TN= 102\n",
            "163/163 [==============================] - 93s 570ms/step - loss: 0.1357 - accuracy: 0.9571 - val_loss: 0.8035 - val_accuracy: 0.7933\n",
            "TP= 386 FP= 125 FN= 4 TN= 109\n",
            "163/163 [==============================] - 95s 583ms/step - loss: 0.1023 - accuracy: 0.9647 - val_loss: 1.7450 - val_accuracy: 0.7003\n",
            "TP= 389 FP= 186 FN= 1 TN= 48\n",
            "163/163 [==============================] - 93s 572ms/step - loss: 0.1171 - accuracy: 0.9686 - val_loss: 1.3602 - val_accuracy: 0.7420\n",
            "TP= 389 FP= 160 FN= 1 TN= 74\n",
            "163/163 [==============================] - 95s 582ms/step - loss: 0.0721 - accuracy: 0.9741 - val_loss: 1.7204 - val_accuracy: 0.7196\n",
            "TP= 388 FP= 173 FN= 2 TN= 61\n",
            "163/163 [==============================] - 93s 570ms/step - loss: 0.0774 - accuracy: 0.9768 - val_loss: 1.2245 - val_accuracy: 0.7388\n",
            "TP= 389 FP= 162 FN= 1 TN= 72\n",
            "163/163 [==============================] - 92s 563ms/step - loss: 0.0492 - accuracy: 0.9866 - val_loss: 1.6626 - val_accuracy: 0.7420\n",
            "TP= 388 FP= 159 FN= 2 TN= 75\n",
            "163/163 [==============================] - 93s 569ms/step - loss: 0.0976 - accuracy: 0.9808 - val_loss: 2.0271 - val_accuracy: 0.7452\n",
            "TP= 388 FP= 157 FN= 2 TN= 77\n"
          ],
          "name": "stdout"
        }
      ]
    },
    {
      "cell_type": "code",
      "metadata": {
        "id": "AxALl21m68ly",
        "colab_type": "code",
        "colab": {}
      },
      "source": [
        "model = Sequential()\n",
        "\n",
        "model.add(Conv2D(32, (3,3), padding='same', input_shape=(128,128,3)))\n",
        "model.add(Activation('relu'))\n",
        "\n",
        "model.add(AveragePooling2D(pool_size=(2,2)))\n",
        "\n",
        "model.add(Conv2D(64, (3,3), padding='same'))\n",
        "model.add(Activation('relu'))\n",
        "\n",
        "model.add(AveragePooling2D(pool_size=(2,2)))\n",
        "\n",
        "model.add(Flatten())\n",
        "model.add(Dense(200))\n",
        "model.add(Activation('relu'))\n",
        "\n",
        "model.add(Dense(2))\n",
        "model.add(Activation('softmax'))\n",
        "\n",
        "model.compile(loss='sparse_categorical_crossentropy', optimizer=RMSprop(), metrics=['accuracy'])"
      ],
      "execution_count": 16,
      "outputs": []
    },
    {
      "cell_type": "code",
      "metadata": {
        "id": "wjV7Wv1Ti_EF",
        "colab_type": "code",
        "colab": {
          "base_uri": "https://localhost:8080/",
          "height": 357
        },
        "outputId": "dfad3622-b101-447d-a3f7-19f41b57a139"
      },
      "source": [
        "for i in range(10):\n",
        "  history = model.fit(x_train, y_train, batch_size=32, epochs=1, validation_data = (x_test, y_test))\n",
        "  predict = np.argmax(model.predict(x_test), axis=-1)\n",
        "  TP, FP, FN, TN = 0, 0, 0, 0 #真陽性TP,偽陽性FP,偽陰性FN,真陰性TN\n",
        "  for i in range(len(predict)):\n",
        "    if predict[i]==0:\n",
        "      if predict[i]==y_test[i]:\n",
        "        TP += 1\n",
        "      elif predict[i]!=y_test[i]:\n",
        "        FP += 1\n",
        "    elif predict[i]==1:\n",
        "      if predict[i]==y_test[i]:\n",
        "        TN += 1\n",
        "      elif predict[i]!=y_test[i]:\n",
        "        FN += 1\n",
        "  print(\"TP=\",TP,\"FP=\",FP,\"FN=\",FN,\"TN=\",TN)"
      ],
      "execution_count": 17,
      "outputs": [
        {
          "output_type": "stream",
          "text": [
            "163/163 [==============================] - 125s 766ms/step - loss: 0.6662 - accuracy: 0.8378 - val_loss: 0.7696 - val_accuracy: 0.7596\n",
            "TP= 385 FP= 145 FN= 5 TN= 89\n",
            "163/163 [==============================] - 125s 767ms/step - loss: 0.2038 - accuracy: 0.9333 - val_loss: 2.3543 - val_accuracy: 0.6298\n",
            "TP= 390 FP= 231 FN= 0 TN= 3\n",
            "163/163 [==============================] - 124s 763ms/step - loss: 0.2671 - accuracy: 0.9559 - val_loss: 0.8944 - val_accuracy: 0.7708\n",
            "TP= 389 FP= 142 FN= 1 TN= 92\n",
            "163/163 [==============================] - 124s 761ms/step - loss: 0.1164 - accuracy: 0.9615 - val_loss: 1.3923 - val_accuracy: 0.6907\n",
            "TP= 389 FP= 192 FN= 1 TN= 42\n",
            "163/163 [==============================] - 126s 770ms/step - loss: 0.0739 - accuracy: 0.9751 - val_loss: 1.6666 - val_accuracy: 0.7548\n",
            "TP= 387 FP= 150 FN= 3 TN= 84\n",
            "163/163 [==============================] - 124s 761ms/step - loss: 0.0819 - accuracy: 0.9764 - val_loss: 0.9153 - val_accuracy: 0.8269\n",
            "TP= 380 FP= 98 FN= 10 TN= 136\n",
            "163/163 [==============================] - 125s 768ms/step - loss: 0.0913 - accuracy: 0.9789 - val_loss: 1.1733 - val_accuracy: 0.7388\n",
            "TP= 388 FP= 161 FN= 2 TN= 73\n",
            "163/163 [==============================] - 128s 783ms/step - loss: 0.0584 - accuracy: 0.9831 - val_loss: 1.6583 - val_accuracy: 0.7420\n",
            "TP= 388 FP= 159 FN= 2 TN= 75\n",
            "163/163 [==============================] - 127s 780ms/step - loss: 0.2757 - accuracy: 0.9849 - val_loss: 1.4247 - val_accuracy: 0.7516\n",
            "TP= 386 FP= 151 FN= 4 TN= 83\n",
            "163/163 [==============================] - 126s 775ms/step - loss: 0.0366 - accuracy: 0.9912 - val_loss: 1.3711 - val_accuracy: 0.7388\n",
            "TP= 388 FP= 161 FN= 2 TN= 73\n"
          ],
          "name": "stdout"
        }
      ]
    },
    {
      "cell_type": "code",
      "metadata": {
        "id": "PwxbSYz4jE7i",
        "colab_type": "code",
        "colab": {}
      },
      "source": [
        "model = Sequential()\n",
        "\n",
        "model.add(Conv2D(64, (3,3), padding='same', input_shape=(128,128,3)))\n",
        "model.add(Activation('relu'))\n",
        "\n",
        "model.add(AveragePooling2D(pool_size=(2,2)))\n",
        "\n",
        "model.add(Conv2D(64, (3,3), padding='same'))\n",
        "model.add(Activation('relu'))\n",
        "\n",
        "model.add(AveragePooling2D(pool_size=(2,2)))\n",
        "\n",
        "model.add(Flatten())\n",
        "model.add(Dense(200))\n",
        "model.add(Activation('relu'))\n",
        "\n",
        "model.add(Dense(2))\n",
        "model.add(Activation('softmax'))\n",
        "\n",
        "model.compile(loss='sparse_categorical_crossentropy', optimizer=RMSprop(), metrics=['accuracy'])"
      ],
      "execution_count": 20,
      "outputs": []
    },
    {
      "cell_type": "code",
      "metadata": {
        "id": "YQ9xO4egBAae",
        "colab_type": "code",
        "colab": {
          "base_uri": "https://localhost:8080/",
          "height": 187
        },
        "outputId": "a09c282d-d6ed-40f8-9289-982bcb386be1"
      },
      "source": [
        "for i in range(10):\n",
        "  history = model.fit(x_train, y_train, batch_size=32, epochs=1, validation_data = (x_test, y_test))\n",
        "  predict = np.argmax(model.predict(x_test), axis=-1)\n",
        "  TP, FP, FN, TN = 0, 0, 0, 0 #真陽性TP,偽陽性FP,偽陰性FN,真陰性TN\n",
        "  for i in range(len(predict)):\n",
        "    if predict[i]==0:\n",
        "      if predict[i]==y_test[i]:\n",
        "        TP += 1\n",
        "      elif predict[i]!=y_test[i]:\n",
        "        FP += 1\n",
        "    elif predict[i]==1:\n",
        "      if predict[i]==y_test[i]:\n",
        "        TN += 1\n",
        "      elif predict[i]!=y_test[i]:\n",
        "        FN += 1\n",
        "  print(\"TP=\",TP,\"FP=\",FP,\"FN=\",FN,\"TN=\",TN)"
      ],
      "execution_count": null,
      "outputs": [
        {
          "output_type": "stream",
          "text": [
            "163/163 [==============================] - 200s 1s/step - loss: 0.5414 - accuracy: 0.8246 - val_loss: 0.6954 - val_accuracy: 0.7532\n",
            "TP= 387 FP= 151 FN= 3 TN= 83\n",
            "163/163 [==============================] - 199s 1s/step - loss: 0.2169 - accuracy: 0.9304 - val_loss: 0.7678 - val_accuracy: 0.7692\n",
            "TP= 389 FP= 143 FN= 1 TN= 91\n",
            "163/163 [==============================] - 207s 1s/step - loss: 0.1635 - accuracy: 0.9502 - val_loss: 1.1052 - val_accuracy: 0.7196\n",
            "TP= 389 FP= 174 FN= 1 TN= 60\n",
            "163/163 [==============================] - 215s 1s/step - loss: 0.1185 - accuracy: 0.9638 - val_loss: 0.9750 - val_accuracy: 0.7676\n",
            "TP= 388 FP= 143 FN= 2 TN= 91\n",
            "163/163 [==============================] - 206s 1s/step - loss: 0.1076 - accuracy: 0.9668 - val_loss: 1.0126 - val_accuracy: 0.7740\n",
            "TP= 388 FP= 139 FN= 2 TN= 95\n"
          ],
          "name": "stdout"
        }
      ]
    },
    {
      "cell_type": "code",
      "metadata": {
        "id": "_vpXV3YttQPp",
        "colab_type": "code",
        "colab": {}
      },
      "source": [
        ""
      ],
      "execution_count": null,
      "outputs": []
    }
  ]
}